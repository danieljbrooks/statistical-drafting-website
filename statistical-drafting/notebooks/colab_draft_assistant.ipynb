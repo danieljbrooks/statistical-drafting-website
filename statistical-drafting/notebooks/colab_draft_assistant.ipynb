{
 "cells": [
  {
   "cell_type": "markdown",
   "metadata": {},
   "source": [
    "# Draft Assistant - Web Version\n",
    "\n",
    "This notebook can be run in a web browser with the following link: https://colab.research.google.com/github/danieljbrooks/statistical-drafting/blob/main/notebooks/colab_draft_assistant.ipynb"
   ]
  },
  {
   "cell_type": "code",
   "execution_count": null,
   "metadata": {},
   "outputs": [],
   "source": [
    "# Download a stable version of the draft assistant.\n",
    "!rm -rf /content/statistical-drafting/\n",
    "%cd /content/\n",
    "!git clone https://github.com/danieljbrooks/statistical-drafting.git\n",
    "%cd /content/statistical-drafting/\n",
    "import statisticaldrafting as sd\n",
    "%cd /content/statistical-drafting/notebooks/\n",
    "from google.colab import data_table # Pretty table display in colab"
   ]
  },
  {
   "cell_type": "code",
   "execution_count": null,
   "metadata": {},
   "outputs": [],
   "source": [
    "# Set up draft assistant.\n",
    "# print(sd.list_sets()) # Show available sets\n",
    "dm = sd.DraftModel(set=\"FIN\", draft_mode=\"Premier\")"
   ]
  },
  {
   "cell_type": "code",
   "execution_count": null,
   "metadata": {},
   "outputs": [],
   "source": [
    "# Draft assistant - gives a pick order for a given collection.\n",
    "# collection = [\"Vivien Reid\", \"Llanowar Elves\", \"Refute\", \"Bigfin Bouncer\"] # Collection as cardnames\n",
    "# collection = [16, 229, 78, 78, 198] # Collection as card ids\n",
    "collection = [] # Pack 1 pick 1\n",
    "pick_order = dm.get_pick_order(collection)\n",
    "# pick_order = pick_order[pick_order[\"rarity\"].isin([\"common\", \"uncommon\"])] # Optional filter. \n",
    "# pick_order = pick_order[pick_order[\"color_identity\"].isin([\"R\"])] # Optional filter. \n",
    "data_table.DataTable(pick_order, num_rows_per_page=500) # Pretty display of pick order"
   ]
  },
  {
   "cell_type": "code",
   "execution_count": null,
   "metadata": {},
   "outputs": [],
   "source": [
    "# BETA - deckbuild recommendations after draft. \n",
    "# cards_for_deck = dm.get_deck_recommendation(collection, starting_colors=\"\").head(30)\n",
    "# data_table.DataTable(cards_for_deck) # Pretty display of deck"
   ]
  }
 ],
 "metadata": {
  "kernelspec": {
   "display_name": "Python 3",
   "language": "python",
   "name": "python3"
  },
  "language_info": {
   "codemirror_mode": {
    "name": "ipython",
    "version": 3
   },
   "file_extension": ".py",
   "mimetype": "text/x-python",
   "name": "python",
   "nbconvert_exporter": "python",
   "pygments_lexer": "ipython3",
   "version": "3.11.1"
  }
 },
 "nbformat": 4,
 "nbformat_minor": 2
}
