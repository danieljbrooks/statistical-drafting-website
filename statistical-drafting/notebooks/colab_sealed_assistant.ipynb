{
 "cells": [
  {
   "cell_type": "markdown",
   "metadata": {},
   "source": [
    "# Sealed/Deckbuild Assistant - Web Version\n",
    "\n",
    "This notebook can be run in a web browser with the following link: https://colab.research.google.com/github/danieljbrooks/statistical-drafting/blob/main/notebooks/colab_sealed_assistant.ipynb"
   ]
  },
  {
   "cell_type": "code",
   "execution_count": null,
   "metadata": {},
   "outputs": [],
   "source": [
    "# Download a stable version of the repository\n",
    "!rm -rf /content/statistical-drafting/\n",
    "%cd /content/\n",
    "!git clone https://github.com/danieljbrooks/statistical-drafting.git\n",
    "%cd /content/statistical-drafting/\n",
    "import statisticaldrafting as sd\n",
    "%cd /content/statistical-drafting/notebooks/"
   ]
  },
  {
   "cell_type": "code",
   "execution_count": null,
   "metadata": {},
   "outputs": [],
   "source": [
    "# sd.list_sets() # Show available sets"
   ]
  },
  {
   "cell_type": "code",
   "execution_count": null,
   "metadata": {},
   "outputs": [],
   "source": [
    "# Export sealed (or draft) pool from Arena into notebook.\n",
    "# For detailed instructions on exporting a deck, see: https://draftsim.com/mtg-arena-export-deck/\n",
    "sealed_pool = \"\"\"2 Healer's Hawk (FDN) 142\n",
    "1 Mountain (FDN) 279\n",
    "2 Joust Through (FDN) 19\n",
    "1 Ajani's Pridemate (FDN) 135\n",
    "1 Banishing Light (FDN) 138\n",
    "1 Dazzling Angel (FDN) 9\n",
    "1 Inspiring Paladin (FDN) 18\n",
    "1 Armasaur Guide (FDN) 3\n",
    "1 An Offer You Can't Refuse (FDN) 160\n",
    "1 Swamp (FDN) 277\n",
    "1 Witness Protection (FDN) 168\n",
    "1 Aetherize (FDN) 151\n",
    "1 Lightshell Duo (FDN) 157\n",
    "1 Extravagant Replication (FDN) 154\n",
    "1 Grappling Kraken (FDN) 39\n",
    "3 Island (FDN) 275\n",
    "1 Pilfer (FDN) 181\n",
    "4 Plains (FDN) 273\n",
    "1 Frenzied Goblin (FDN) 199\n",
    "1 Kellan, Planar Trailblazer (FDN) 91\n",
    "1 Rite of the Dragoncaller (FDN) 92\n",
    "1 Mild-Mannered Librarian (FDN) 228\n",
    "3 Forest (FDN) 281\n",
    "1 Genesis Wave (FDN) 221\n",
    "1 Scoured Barrens (FDN) 266\n",
    "1 Dismal Backwater (FDN) 261\n",
    "1 Swiftwater Cliffs (FDN) 268\n",
    "1 Jungle Hollow (FDN) 263\n",
    "1 Wardens of the Cycle (FDN) 125\n",
    "1 Evolving Wilds (FDN) 262\n",
    "1 Adventuring Gear (FDN) 249\n",
    "\n",
    "Sideboard\n",
    "1 Goblin Boarders (FDN) 87\n",
    "2 Vampire Soulcaller (FDN) 75\n",
    "1 Gutless Plunderer (FDN) 60\n",
    "2 Think Twice (FDN) 165\n",
    "1 Wary Thespian (FDN) 235\n",
    "1 Serra Angel (FDN) 147\n",
    "2 Garruk's Uprising (FDN) 220\n",
    "1 Stromkirk Bloodthief (FDN) 185\n",
    "1 Spinner of Souls (FDN) 112\n",
    "2 Axgard Cavalry (FDN) 189\n",
    "1 Dwynen's Elite (FDN) 218\n",
    "1 Involuntary Employment (FDN) 203\n",
    "1 Helpful Hunter (FDN) 16\n",
    "2 Erudite Wizard (FDN) 37\n",
    "1 Burnished Hart (FDN) 250\n",
    "1 Blanchwood Armor (FDN) 213\n",
    "1 Phyrexian Arena (FDN) 180\n",
    "1 Inspiring Paladin (FDN) 18\n",
    "1 Courageous Goblin (FDN) 82\n",
    "2 Hungry Ghoul (FDN) 62\n",
    "1 Prideful Parent (FDN) 21\n",
    "2 Broken Wings (FDN) 214\n",
    "1 Campus Guide (FDN) 251\n",
    "1 Tragic Banshee (FDN) 73\n",
    "1 Tatyova, Benthic Druid (FDN) 247\n",
    "1 Inspiration from Beyond (FDN) 43\n",
    "1 Genesis Wave (FDN) 221\n",
    "1 Treetop Snarespinner (FDN) 114\n",
    "2 Fanatical Firebrand (FDN) 195\n",
    "1 Gleaming Barrier (FDN) 252\n",
    "1 Bite Down (FDN) 212\n",
    "1 Soul-Shackled Zombie (FDN) 70\n",
    "1 Uncharted Voyage (FDN) 53\n",
    "1 Wardens of the Cycle (FDN) 125\n",
    "1 Slumbering Cerberus (FDN) 94\n",
    "1 Drakuseth, Maw of Flames (FDN) 193\n",
    "1 Strix Lookout (FDN) 52\n",
    "1 Spitfire Lagac (FDN) 208\n",
    "1 Stab (FDN) 71\n",
    "1 Apothecary Stomper (FDN) 99\n",
    "1 Infernal Vessel (FDN) 63\n",
    "1 Tolarian Terror (FDN) 167\n",
    "1 Icewind Elemental (FDN) 42\n",
    "1 Cackling Prowler (FDN) 101\n",
    "1 Cephalid Inkmage (FDN) 32\n",
    "1 Youthful Valkyrie (FDN) 149\n",
    "\"\"\""
   ]
  },
  {
   "cell_type": "code",
   "execution_count": null,
   "metadata": {},
   "outputs": [],
   "source": [
    "# Parse into collection list\n",
    "sealed_cardnames = sd.parse_cardnames(sealed_pool)\n",
    "\n",
    "# Get deckbuild recommendations - expect to need to tweak a handful of cards. \n",
    "dm = sd.DraftModel(set=\"FDN\", draft_mode=\"Premier\")\n",
    "deck_rec = dm.get_deck_recommendation(sealed_cardnames, starting_colors=\"BR\")\n",
    "deck_rec.head(25)"
   ]
  }
 ],
 "metadata": {
  "kernelspec": {
   "display_name": "Python 3",
   "language": "python",
   "name": "python3"
  },
  "language_info": {
   "codemirror_mode": {
    "name": "ipython",
    "version": 3
   },
   "file_extension": ".py",
   "mimetype": "text/x-python",
   "name": "python",
   "nbconvert_exporter": "python",
   "pygments_lexer": "ipython3",
   "version": "3.11.1"
  }
 },
 "nbformat": 4,
 "nbformat_minor": 2
}
