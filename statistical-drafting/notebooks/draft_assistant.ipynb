{
 "cells": [
  {
   "cell_type": "markdown",
   "metadata": {},
   "source": [
    "# Draft Assistant\n",
    "\n",
    "A notebook-based draft assistant."
   ]
  },
  {
   "cell_type": "code",
   "execution_count": null,
   "metadata": {},
   "outputs": [],
   "source": [
    "# Install package\n",
    "%pip install .. -q\n",
    "\n",
    "import pandas as pd\n",
    "import statisticaldrafting as sd"
   ]
  },
  {
   "cell_type": "code",
   "execution_count": 2,
   "metadata": {},
   "outputs": [],
   "source": [
    "# Load a model. \n",
    "# sd.list_sets() # Show available sets.\n",
    "dm = sd.DraftModel(set=\"TDM\", draft_mode=\"Premier\")"
   ]
  },
  {
   "cell_type": "code",
   "execution_count": null,
   "metadata": {},
   "outputs": [],
   "source": [
    "# collection = [\"Vivien Reid\", \"Scavenging Ooze\"] # Collection as cardnames\n",
    "# collection = [16, 229, 78, 78, 198] # Collection as card ids\n",
    "# collection = [66] * 5 + [134] * 5 + [188] * 2 + [169] * 4 + [129] * 4 + [100] * 3 + [214] * 4 # BW FDN deck\n",
    "# collection = [\"Infestation Sage\", 112, 216, \"Eaten Alive\"] #, \"Eaten Alive\", \"Vampire Soulcaller\", \"Involuntary Employment\", \"Llanowar Elves\", \"Marauding Blight-Priest\", \"Diregraf Ghoul\", \"Rugged Highlands\", \"Meteor Golem\", \"Essence Scatter\", \"Elementalist Adept\", \"Gorehorn Raider\", \"Spinner of Souls\", \"Micromancer\", \"Bake into a Pie\", \"Tragic Banshee\", \"Stab\", \"Fake Your Own Death\", \"Burglar Rat\", \"Refute\", \"Jungle Hollow\", \"Self-Reflection\", 14, \"Aegis Turtle\", \"Bake into a Pie\", \"Essence Scatter\", \"Sylvan Scavenging\", \"Eaten Alive\", \"Mild-Mannered Librarian\", \"Skyship Buccaneer\", \"Infestation Sage\", \"Hungry Ghoul\", \"Think Twice\", \"Infestation Sage\", \"Burnished Hart\", \"Exsanguinate\", \"Hare Apparent\", \"Tranquil Cove\"]\n",
    "collection = []\n",
    "pick_order = dm.get_pick_order(collection)\n",
    "# pick_order = pick_order[pick_order[\"rarity\"].isin([\"common\", \"uncommon\"])] # Optional filter. \n",
    "# pick_order = pick_order[pick_order[\"color_identity\"].isin([\"R\"])] # Optional filter. \n",
    "pick_order"
   ]
  },
  {
   "cell_type": "code",
   "execution_count": null,
   "metadata": {},
   "outputs": [],
   "source": [
    "# Deckbuild recommendations after draft. \n",
    "dm.get_deck_recommendation(collection, starting_colors=\"\").head(30)"
   ]
  }
 ],
 "metadata": {
  "kernelspec": {
   "display_name": "Python 3",
   "language": "python",
   "name": "python3"
  },
  "language_info": {
   "codemirror_mode": {
    "name": "ipython",
    "version": 3
   },
   "file_extension": ".py",
   "mimetype": "text/x-python",
   "name": "python",
   "nbconvert_exporter": "python",
   "pygments_lexer": "ipython3",
   "version": "3.11.1"
  }
 },
 "nbformat": 4,
 "nbformat_minor": 2
}
